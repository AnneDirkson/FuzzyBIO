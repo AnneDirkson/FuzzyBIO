{
 "cells": [
  {
   "cell_type": "markdown",
   "metadata": {},
   "source": [
    "##This script will: \n",
    "\n",
    "- turn the BIOHD annotations into FuzzyBIO annotations\n",
    "- train NER models (10-fold CV) using distilbert (cased)\n",
    "- analyse the results of the NER models trained using FuzzyBIO and using BIOHD\n",
    "\n",
    "optional: \n",
    "- Link the extracted entities to the concept normalization annotations provided with perfect entities \n",
    "- Train concept normalization models (10-fold CV) using distilbert (uncased)\n",
    "- Analyse the results of these models on perfect data, imperfect BIOHD and imperfect FuzzyBIO data "
   ]
  },
  {
   "cell_type": "code",
   "execution_count": 6,
   "metadata": {},
   "outputs": [],
   "source": [
    "## import all modules\n",
    "\n",
    "from Fuzzify_Annotations import Fuzzify\n",
    "\n",
    "from BERTforNERktrain import BERTforNER\n",
    "\n",
    "from ExtractSimplifiedConcepts import AnnotateImperfect \n",
    "\n",
    "from CollectNERResults import NER_results\n",
    "\n",
    "from ConceptNormalisationBERT import ConceptNorm\n",
    "\n",
    "from ConceptNormResults import ConceptNormEval"
   ]
  },
  {
   "cell_type": "code",
   "execution_count": null,
   "metadata": {},
   "outputs": [],
   "source": [
    "import pickle \n",
    "import pandas as pd\n",
    "import os\n",
    "\n",
    "def load_obj(name):\n",
    "    with open(name + '.pkl', 'rb') as f:\n",
    "        return pickle.load(f, encoding='latin1')\n",
    "    \n",
    "\n",
    "def save_obj(obj, name):\n",
    "    with open(name + '.pkl', 'wb') as f:\n",
    "        pickle.dump(obj, f, pickle.HIGHEST_PROTOCOL)"
   ]
  },
  {
   "cell_type": "code",
   "execution_count": 8,
   "metadata": {},
   "outputs": [],
   "source": [
    "def main(data, folddict, outfolder, ConceptNorm = False, txt_dict = None, concept_dict = None, modelpath = None): \n",
    "    ##making the fuzzybio annotations\n",
    "    data.columns = ['sent_id', 'word', 'tag']\n",
    "    data_agg = data.groupby('sent_id').agg(list)\n",
    "    data_agg = data_agg.reset_index()\n",
    "\n",
    "    nwdata= Fuzzify().main(data, tagtype = 'ADR')\n",
    "    \n",
    "    save_obj(nwdata, outfolder + \"fuzzy_data\")\n",
    "    \n",
    "    os.mkdir(outfolder + \"/NER/FuzzyBIO/\") \n",
    "    os.mkdir(outfolder + \"/NER/BIOHD/\") \n",
    "    ##NER for Fuzzy data\n",
    "    BERTforNER().main(outfolder + \"/NER/FuzzyBIO/\", nwdata, folddict)\n",
    "    \n",
    "    ##NER for BIOHD data\n",
    "    BERTforNER().main(outfolder + \"/NER/BIOHD/\", data, folddict)\n",
    "\n",
    "    ##NER Results -- all evaluation is done on the BIOHD tagged data\n",
    "    predfolder1 = outfolder + '/NER/BIOHD/'\n",
    "    predfolder2 = outfolder + \"/NER/FuzzyBIO/\"\n",
    "    \n",
    "    NER_results().main(data, folddict, predfolder1, predfolder2)   \n",
    "    \n",
    "    if ConceptNorm == True:\n",
    "        f, f2, f3 = AnnotateImperfect().main(data, nwdata, folddict, concept_dict, txt_dict, predfolder1, predfolder2, tagtype = 'ADR')\n",
    "        ##f3 are the perfect annotations\n",
    "        os.mkdir(outfolder + \"/ConceptNorm/\") \n",
    "        \n",
    "        ConceptNorm().main(f3, preddata1= f, preddata2=f2, outpath = outfolder + '/ConceptNorm/')\n",
    "        \n",
    "        ConceptNormEval().main(modelpath, predpath= outfolder + '/ConceptNorm/', orig_data =f3, basic_extr=f, simplify_extr=f2)\n",
    "\n"
   ]
  },
  {
   "cell_type": "code",
   "execution_count": null,
   "metadata": {},
   "outputs": [],
   "source": [
    "## Example usage with CADEC \n",
    "\n",
    "data = load_obj('./data/CADEC_BIOHD')\n",
    "folddict = load_obj('./data/folddict_CADEC')\n",
    "txtdict = load_obj('./data/txtdict_CADEC')\n",
    "conceptdict = load_obj('./data/conceptdict_CADEC')\n",
    "\n",
    "modelpath = './data/mednorm_raw_10n_40l_5w_64dim.bin'\n",
    "\n",
    "os.mkdir('./Results/\") \n",
    "outfolder = './Results/'\n",
    "\n",
    "main(data, folddict, outfolder, ConceptNorm = True, txt_dict = txtdict, concept_dict = conceptdict, modelpath = modelpath): \n"
   ]
  }
 ],
 "metadata": {
  "kernelspec": {
   "display_name": "Python 3",
   "language": "python",
   "name": "python3"
  },
  "language_info": {
   "codemirror_mode": {
    "name": "ipython",
    "version": 3
   },
   "file_extension": ".py",
   "mimetype": "text/x-python",
   "name": "python",
   "nbconvert_exporter": "python",
   "pygments_lexer": "ipython3",
   "version": "3.7.7"
  }
 },
 "nbformat": 4,
 "nbformat_minor": 4
}
